{
 "cells": [
  {
   "cell_type": "markdown",
   "metadata": {},
   "source": [
    "# Addendum: Generating the images of Evo-Info 2 and Evo-Info 4\n",
    "**by Tom English**"
   ]
  },
  {
   "cell_type": "code",
   "execution_count": 1,
   "metadata": {},
   "outputs": [
    {
     "name": "stdout",
     "output_type": "stream",
     "text": [
      "Sun Oct 20 07:00:02 CDT 2019\r\n"
     ]
    }
   ],
   "source": [
    "!TZ=America/Chicago date"
   ]
  },
  {
   "cell_type": "markdown",
   "metadata": {},
   "source": [
    "I used different images of Fuji and Rushmore to generate *Sunset in the Garden of Id*, which appears in [Evo-Info 2: Teaser for algorithmic specified complexity](http://theskepticalzone.com/wp/evo-info-2-teaser-for-asc/), and *Signature of the Id*, which appears in \"[Evo-Info 4: Non-conservation of algorithmic specified complexity](http://theskepticalzone.com/wp/evo-info-4-non-conservation-of-algorithmic-specified-complexity/).\" Here I show how I obtained them.\n",
    "\n",
    "*Sunset* is the bitwise XOR of the overlapping parts of the alternative images of Fuji and Rushmore. *Signature* is the cumulative 8-bit sum of the RGB values of the alternative image of Fuji."
   ]
  },
  {
   "cell_type": "markdown",
   "metadata": {},
   "source": [
    "## Generation of images\n",
    "\n",
    "First load some image-processing functions."
   ]
  },
  {
   "cell_type": "code",
   "execution_count": 2,
   "metadata": {},
   "outputs": [],
   "source": [
    "# The code is included in the binder.\n",
    "%run image_processing.py"
   ]
  },
  {
   "cell_type": "markdown",
   "metadata": {},
   "source": [
    "### Image processing\n",
    "\n",
    "Specify the URLs of images of Mount Fuji and Mount Rushmore in the Wikimedia Commons."
   ]
  },
  {
   "cell_type": "code",
   "execution_count": 3,
   "metadata": {},
   "outputs": [],
   "source": [
    "fuji_path = (\"https://upload.wikimedia.org/wikipedia/commons/thumb/\"\n",
    "             + \"b/bb/Mount_Fuji_from_space_%28shuttle_mission%29.jpg/\"\n",
    "             + \"1280px-Mount_Fuji_from_space_%28shuttle_mission%29.jpg\")\n",
    "\n",
    "rush_path = (\"https://upload.wikimedia.org/wikipedia/commons/thumb/\"\n",
    "             + \"e/e6/Side_view_of_Washington_at_Mount_Rushmore\"\n",
    "             + \"%2C_SD_IMG_20140311_0001.jpg/1280px-Side_view_of_\"\n",
    "             + \"Washington_at_Mount_Rushmore%2C_SD_IMG_20140311_0001.jpg\")"
   ]
  },
  {
   "cell_type": "markdown",
   "metadata": {},
   "source": [
    "Read the Fuji and Rushmore images, and crop them to the regions that\n",
    "overlap when they are aligned at their upper-left corners. Then report\n",
    "the dimensions and sizes of the images."
   ]
  },
  {
   "cell_type": "code",
   "execution_count": 4,
   "metadata": {},
   "outputs": [
    {
     "name": "stdout",
     "output_type": "stream",
     "text": [
      "Image height, width, and depth : (848, 1280, 3)\n",
      "Number of bits per raw image   : 26,050,560\n"
     ]
    }
   ],
   "source": [
    "fuji, rush = overlap(imread(fuji_path), imread(rush_path))\n",
    "n_raw_bits = 8 * np.prod(fuji.shape)\n",
    "print('Image height, width, and depth :', fuji.shape)\n",
    "print('Number of bits per raw image   : {:,}'.format(n_raw_bits))"
   ]
  },
  {
   "cell_type": "markdown",
   "metadata": {
    "scrolled": false
   },
   "source": [
    "Produce a new image by taking the [bitwise XOR](https://en.wikipedia.org/wiki/Bitwise_operation#XOR) of the images of Fuji and Rushmore."
   ]
  },
  {
   "cell_type": "code",
   "execution_count": 5,
   "metadata": {},
   "outputs": [],
   "source": [
    "meld = fuji ^ rush"
   ]
  },
  {
   "cell_type": "markdown",
   "metadata": {
    "scrolled": false
   },
   "source": [
    "Create an image that is the cumulative 8-bit sum (with overflow bits\n",
    "discarded) of RGB values in the Rushmore image. For a simple description of this operation, along with an explanation of why it entails loss of information, see \"[Evo-Info 4: Non-conservation of algorithmic specified complexity](http://theskepticalzone.com/wp/evo-info-4-non-conservation-of-algorithmic-specified-complexity/).\""
   ]
  },
  {
   "cell_type": "code",
   "execution_count": 6,
   "metadata": {},
   "outputs": [],
   "source": [
    "csum = cumulative_sum(rush)"
   ]
  },
  {
   "cell_type": "markdown",
   "metadata": {
    "scrolled": false
   },
   "source": [
    "Write all of the images to disk in Portable Network Graphics (PNG) format, causing the images to be compressed without loss (meaning that decompression of a compressed image gives precisely the image that was compressed). Report the sizes of the compressed images. The name of the file containing an image is the title of the image, extended with '.png'."
   ]
  },
  {
   "cell_type": "code",
   "execution_count": 7,
   "metadata": {
    "scrolled": false
   },
   "outputs": [
    {
     "name": "stdout",
     "output_type": "stream",
     "text": [
      "Number of bits in each of the compressed images\n",
      "   Fuji Affects the Weather   :  12,978,792\n",
      "   Side View of Rushmore      :  13,046,472\n",
      "   Sunset in the Garden of Id :  22,115,280\n",
      "   Signature of the Id        :  25,270,840\n"
     ]
    }
   ],
   "source": [
    "print('Number of bits in each of the compressed images')\n",
    "formatter = '   {:26} : {:11,}'\n",
    "n_fuji = write_png(fuji, 'Fuji Affects the Weather', formatter)\n",
    "n_rush = write_png(rush, 'Side View of Rushmore', formatter)\n",
    "n_meld = write_png(meld, 'Sunset in the Garden of Id', formatter)\n",
    "n_csum = write_png(csum, 'Signature of the Id', formatter)"
   ]
  },
  {
   "cell_type": "markdown",
   "metadata": {},
   "source": [
    "### Display of images\n",
    "\n",
    "The following images are scaled down to fit within the cell. To view an image at full resolution (at least in some browsers), click on its title.\n",
    "\n",
    "[*Fuji Affects the Weather*](./Fuji%20Affects%20the%20Weather.png).  Photo credit: Earth Sciences and Image Analysis Laboratory at Johnson Space Center [via Wikimedia Commons](https://commons.wikimedia.org/wiki/File:Mount_Fuji_from_space_(shuttle_mission).jpg) (public domain). \n",
    "<img src=\"./Fuji%20Affects%20the%20Weather.png\">\n",
    "\n",
    "&nbsp;\n",
    "\n",
    "[*Side View of Rushmore*](./Side%20View%20of%20Rushmore.png). Photo credit: Billy Hathorn, <a href=\"https://commons.wikimedia.org/wiki/File:Side_view_of_Washington_at_Mount_Rushmore,_SD_IMG_20140311_0001.jpg\">via Wikimedia Commons</a> (<a href=\"https://creativecommons.org/licenses/by-sa/3.0/\">CC BY-SA 3.0</a>).\n",
    "<img src=\"./Side%20View%20of%20Rushmore.png\">\n",
    "\n",
    "&nbsp;\n",
    "\n",
    "[*Sunset in the Garden of Id*](./Sunset%20in%20the%20Garden%20of%20Id.png)\n",
    "<img src=\"./Sunset%20in%20the%20Garden%20of%20Id.png\">\n",
    "\n",
    "&nbsp;\n",
    "\n",
    "[*Signature of the Id*](./Signature%20of%20the%20Id.png)\n",
    "<img src=\"./Signature%20of%20the%20Id.png\">"
   ]
  }
 ],
 "metadata": {
  "kernelspec": {
   "display_name": "Python 3",
   "language": "python",
   "name": "python3"
  },
  "language_info": {
   "codemirror_mode": {
    "name": "ipython",
    "version": 3
   },
   "file_extension": ".py",
   "mimetype": "text/x-python",
   "name": "python",
   "nbconvert_exporter": "python",
   "pygments_lexer": "ipython3",
   "version": "3.7.3"
  }
 },
 "nbformat": 4,
 "nbformat_minor": 2
}
