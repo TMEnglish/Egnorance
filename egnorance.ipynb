{
 "cells": [
  {
   "cell_type": "markdown",
   "metadata": {},
   "source": [
    "# Calculations of \"Meaningful Information\"\n",
    "**by Tom English**\n",
    "\n",
    "See my post \"<a href=\"http://theskepticalzone.com/wp/evo-info-5-meaningless-meaning/\">Evo-Info 5: Meaningless Meaning</a>\" at <em>The Skeptical Zone.</em>"
   ]
  },
  {
   "cell_type": "code",
   "execution_count": 1,
   "metadata": {},
   "outputs": [
    {
     "name": "stdout",
     "output_type": "stream",
     "text": [
      "Fri Oct 18 09:59:33 CDT 2019\r\n"
     ]
    }
   ],
   "source": [
    "!TZ=America/Chicago date"
   ]
  },
  {
   "cell_type": "markdown",
   "metadata": {},
   "source": [
    "## Generation of images"
   ]
  },
  {
   "cell_type": "code",
   "execution_count": 2,
   "metadata": {},
   "outputs": [],
   "source": [
    "import numpy as np\n",
    "import io\n",
    "import imageio\n",
    "from IPython.display import Image, display"
   ]
  },
  {
   "cell_type": "markdown",
   "metadata": {},
   "source": [
    "**Definitions of functions used to load, crop, and store images**"
   ]
  },
  {
   "cell_type": "code",
   "execution_count": 3,
   "metadata": {},
   "outputs": [],
   "source": [
    "def fetch(path, in_wikipedia=True):\n",
    "    \"\"\"\n",
    "    Returns an image loaded from location specified by `path`.\n",
    "    \n",
    "    The path can be a URL. If `in_wikipedia` is true, the given path is\n",
    "    appended to the URL of the Wikipedia part of the Wikimedia Commons.\n",
    "    \"\"\"\n",
    "    if in_wikipedia:\n",
    "        path = 'https://upload.wikimedia.org/wikipedia/commons/' + path\n",
    "    return imageio.imread(path)\n",
    "\n",
    "    \n",
    "def crop_to_same_shape(a, b):\n",
    "    \"\"\"\n",
    "    Returns the overlapping regions of images `a` and `b`.\n",
    "    \n",
    "    The height (width, depth) of the returned images is the mimimum of\n",
    "    the heights (widths, depths) of the given images.\n",
    "    \n",
    "    Any cropping that occurs is at the bottom and/or right of the image.\n",
    "    If one of the images is gray-scale, and the other is color, then\n",
    "    only the first of the RGB (or HSV) values of each pixel in the color\n",
    "    image is preserved.\n",
    "    \"\"\"\n",
    "    # Construct a slice that includes the regions of the images that\n",
    "    # overlap when the images are aligned at the upper left-hand corner.\n",
    "    dim = [min(m, n) for m, n in zip(a.shape, b.shape)]\n",
    "    overlap = np.s_[:dim[0], :dim[1], :dim[2]]\n",
    "    #\n",
    "    # Return the overlapping parts of the images.\n",
    "    return a[overlap], b[overlap]\n",
    "\n",
    "\n",
    "def write_png(path_without_extension, image):\n",
    "    \"\"\"\n",
    "    Stores `image` in PNG format, and returns the PNG file size in bits.\n",
    "    \n",
    "    The `path_without_extension` is extended by '.png' to obtain the\n",
    "    storage location.\n",
    "    \"\"\"\n",
    "    path = path_without_extension + '.png'\n",
    "    with io.FileIO(path, 'wb') as compressed:\n",
    "        imageio.imwrite(compressed, image, format='png')\n",
    "        png_bits = 8 * compressed.tell()\n",
    "    return png_bits"
   ]
  },
  {
   "cell_type": "markdown",
   "metadata": {},
   "source": [
    "**Image processing**\n",
    "\n",
    "1. Load an image of Mount Fuji and an image of Mount Rushmore from the Wikimedia Commons.\n",
    "2. Crop the images of Fuji and Rushmore, as necessary, to make them identical in dimensions.\n",
    "3. Create two new images by performing very simple operations on the images of Fuji and Rushmore. The new images are identical in dimensions to those of Fuji and Rushmore.\n",
    "4. Save the four images to disk in PNG format, and report the sizes of the PNG files."
   ]
  },
  {
   "cell_type": "code",
   "execution_count": 4,
   "metadata": {
    "scrolled": false
   },
   "outputs": [
    {
     "name": "stdout",
     "output_type": "stream",
     "text": [
      "Image width, height, and depth: (2592, 3456, 3)\n",
      "Number of bits per raw image  : 214,990,848\n",
      "\n",
      "Number of bits in each of the compressed images\n",
      "   Fuji at Dawn             :  69,143,232\n",
      "   E.T. Views Rushmore      : 102,385,888\n",
      "   The Languor of Egnorance : 193,402,368\n",
      "   The Apotheosis of Meaning: 206,639,528\n"
     ]
    }
   ],
   "source": [
    "\"\"\"\n",
    "Specify the paths to images of Mount Fuji and Mount Rushmore within the\n",
    "Wikipedia part of the Wikimedia Commons.\n",
    "\"\"\"\n",
    "fuji_path = (\"f/f7/Mount_Fuji_Japan_with_Snow%2C_Lakes_and_\"\n",
    "              + \"Surrounding_Mountains.jpg\")\n",
    "rush_path = (\"5/58/Aerial_view_of_Mount_Rushmore_National_Memorial_\"\n",
    "              + \"by_Volkan_Yuksel_DSC04244.JPG\")\n",
    "\n",
    "\"\"\"\n",
    "Load the Fuji and Rushmore images from the Wikimedia Commons, align them\n",
    "at their upper left-hand corners, and crop them to the same dimensions.\n",
    "Then report the dimensions and sizes of the images.\n",
    "\"\"\"\n",
    "fuji, rush = crop_to_same_shape(fetch(fuji_path), fetch(rush_path))\n",
    "n_raw_bits = 8 * np.prod(fuji.shape)\n",
    "print('Image width, height, and depth:', fuji.shape)\n",
    "print('Number of bits per raw image  : {:,}'.format(n_raw_bits))\n",
    "\n",
    "\"\"\"\n",
    "Produce two images, one by taking the bitwise OR of Fuji and Rushmore,\n",
    "and the other by taking the bitwise AND of Fuji and Rushmore. Then\n",
    "produce a single image by taking the 8-bit products (discarding overflow)\n",
    "of the corresponding RGB values of the OR image and the AND image.\n",
    "Finally, invert every bit in the resulting image.\n",
    "\"\"\"\n",
    "mung = ~((fuji | rush) * (fuji & rush))\n",
    "\n",
    "\"\"\"\n",
    "Create an image that is the cumulative 8-bit sum (with overflow bits\n",
    "discarded) of RGB values in the Rushmore image.\n",
    "\"\"\"\n",
    "csum = rush.flatten()\n",
    "np.cumsum(csum, out=csum)\n",
    "csum = csum.reshape(rush.shape)\n",
    "\n",
    "\"\"\"\n",
    "Write all of the images to disk in PNG format.\n",
    "\"\"\"\n",
    "n_rush = write_png('ET Views Rushmore', rush)\n",
    "n_fuji = write_png('Fuji at Dawn', fuji)\n",
    "n_mung = write_png('The Languor of Egnorance', mung)\n",
    "n_csum = write_png('The Apotheosis of Meaning', csum)\n",
    "\n",
    "\"\"\"\n",
    "Report the sizes, in bits, of the PNG files.\n",
    "\"\"\"\n",
    "print('\\nNumber of bits in each of the compressed images')\n",
    "print('   Fuji at Dawn             : {:11,}'.format(n_fuji))\n",
    "print('   E.T. Views Rushmore      : {:11,}'.format(n_rush))\n",
    "print('   The Languor of Egnorance : {:11,}'.format(n_mung))\n",
    "print('   The Apotheosis of Meaning: {:11,}'.format(n_csum))"
   ]
  },
  {
   "cell_type": "markdown",
   "metadata": {},
   "source": [
    "**Display of images**\n",
    "\n",
    "The following images are scaled down to fit within the cell. To view an image at full resolution (at least in some browsers), click on its title.\n",
    "\n",
    "[*Fuji at Dawn*](./Fuji%20at%20Dawn.png)\n",
    "<img src=\"./Fuji%20at%20Dawn.png\">\n",
    "\n",
    "&nbsp;\n",
    "\n",
    "[*E.T. Views Rushmore*](./ET%20Views%20Rushmore.png)\n",
    "<img src=\"./ET%20Views%20Rushmore.png\">\n",
    "\n",
    "&nbsp;\n",
    "\n",
    "[*The Languor of Egnorance*](./The%20Languor%20of%20Egnorance.png)\n",
    "<img src=\"./The%20Languor%20of%20Egnorance.png\">\n",
    "\n",
    "&nbsp;\n",
    "\n",
    "[*The Apotheosis of Meaning*](./The%20Apotheosis%20of%20Meaning.png)\n",
    "<img src=\"./The%20Apotheosis%20of%20Meaning.png\">"
   ]
  },
  {
   "cell_type": "markdown",
   "metadata": {},
   "source": [
    "## Discussion\n",
    "\n",
    "Ewert, Dembski, and Marks regard *algorithmic specified complexity* (ASC) as a measure of meaningful information. We shall follow their article \"<a href=\"http://robertmarks.org/REPRINTS/2015%20Measuring%20meaningful%20information%20in%20images.pdf\">Measuring Meaningful Information in Images: Algorithmic Specified Complexity</a>\" (2015) in approximating the ASC of an image:\n",
    "\n",
    "    ASC(image) = size(compressed(image)) - K(image|context) bits,\n",
    "\n",
    "where `size(compressed(image))` is the number of bits in the image when it is losslessly compressed for storage in Portable Network Graphics (PNG) format, and `K(image|context)` is, loosely, the length of the shortest binary program that outputs `image` on input of the binary string `context`. (Note that the size of the compressed image varies somewhat from one implementation of the PNG compressor to another.) The value of `K(image|context)` indicates the size of `image` when compressed in an alternative scheme. To put the alternative scheme concretely, if Alice and Bob have agreed upon a universal computer and the `context`, then Alice can transmit to Bob a program that outputs `image` on input of `context`, and Bob can run the program with input of `context` to recover `image`. So the ASC of an image is the difference in size when it is compressed by two different approaches, one of which does not exploit the context, and the other of which does.\n",
    "\n",
    "For each of the images above, the number of bits of code required to generate the image, on input of the Wikimedia Commons, is tiny in comparison to the number of bits in the PNG-compressed image. Thus\n",
    "\n",
    "    ASC(image) ≈ size(compressed(image))\n",
    "\n",
    "for each of the images. Note that the ASC of *Languor* is much greater than the sum of the ASC values for the images in the context:"
   ]
  },
  {
   "cell_type": "code",
   "execution_count": 5,
   "metadata": {},
   "outputs": [
    {
     "name": "stdout",
     "output_type": "stream",
     "text": [
      "PNG size of The Languor of Egnorance : 193402368\n",
      "Sum of PNG sizes of Fuji and Rushmore: 171529120\n",
      "Difference                           :  21873248\n"
     ]
    }
   ],
   "source": [
    "size_sum = n_fuji + n_rush\n",
    "print('PNG size of The Languor of Egnorance :', n_mung)\n",
    "print('Sum of PNG sizes of Fuji and Rushmore:', size_sum)\n",
    "print('Difference                           : ', n_mung - size_sum)"
   ]
  },
  {
   "cell_type": "markdown",
   "metadata": {},
   "source": [
    "Thus we have \"created\" almost 22 megabits of \"meaningful information\" by running a short program (much less than 22 megabits in length) that combines the given images, *Fuji* and *Rushmore*, into a new image&nbsp;&mdash; no matter that there is loss of information in the sense that neither of the input images can be recovered from the output image. The absurdity is even more pronounced in the case of *Apotheosis*, in which a very short program operates only on the context image *Rushmore*. The \"meaningful information\" of the output of the program is about twice as great as that of *Rushmore*. That is, according to Ewert, Dembski, and Marks, there is not loss of information, but instead a gain of over 100 million bits of meaningful information when *Rushmore* is scrambled irreversibly to produce the patently meaningless *Apotheosis of Meaning*.\n",
    "\n",
    "Note that the images have been scaled down for display above. If we had calculated the ASC of the lower-resolution images on display, then we would have obtained much smaller values than we did for the full-resolution images."
   ]
  },
  {
   "cell_type": "markdown",
   "metadata": {},
   "source": [
    "**Image credits**\n",
    "\n",
    "* <a href=\"https://commons.wikimedia.org/wiki/File:Mount_Fuji_Japan_with_Snow,_Lakes_and_Surrounding_Mountains.jpg\">Fuji</a>: Kpravin2, <a href=\"https://creativecommons.org/licenses/by-sa/4.0/deed.en\">CC BY-SA 4.0</a> and\n",
    "* <a href=\"https://commons.wikimedia.org/wiki/File:Aerial_view_of_Mount_Rushmore_National_Memorial_by_Volkan_Yuksel_DSC04244.JPG\">Rushmore</a>: <a href=\"https://commons.wikimedia.org/wiki/User:Volkan_Yuksel\">Volkan Yuksel</a>, <a href=\"https://creativecommons.org/licenses/by-sa/3.0/deed.en\">CC BY-SA 3.0</a>,\n",
    "\n",
    "both via the Wikimedia Commons."
   ]
  },
  {
   "cell_type": "code",
   "execution_count": null,
   "metadata": {},
   "outputs": [],
   "source": []
  }
 ],
 "metadata": {
  "kernelspec": {
   "display_name": "Python 3",
   "language": "python",
   "name": "python3"
  },
  "language_info": {
   "codemirror_mode": {
    "name": "ipython",
    "version": 3
   },
   "file_extension": ".py",
   "mimetype": "text/x-python",
   "name": "python",
   "nbconvert_exporter": "python",
   "pygments_lexer": "ipython3",
   "version": "3.7.3"
  }
 },
 "nbformat": 4,
 "nbformat_minor": 2
}
